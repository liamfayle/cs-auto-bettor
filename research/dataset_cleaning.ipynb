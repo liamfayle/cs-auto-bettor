{
 "cells": [
  {
   "cell_type": "code",
   "execution_count": 2,
   "metadata": {},
   "outputs": [],
   "source": [
    "from pathlib import Path\n",
    "import sys\n",
    "sys.path.append(\"E:/Betting/CSGO/Test\")\n",
    "\n",
    "import pandas as pd\n",
    "import numpy as np\n",
    "import sys\n",
    "from resources import feature_moments\n",
    "from scipy.stats import norm\n",
    "from sklearn.linear_model import LogisticRegression\n",
    "from matplotlib import pyplot\n",
    "from sklearn.datasets import make_classification\n",
    "from sklearn.model_selection import cross_val_score, RepeatedStratifiedKFold\n",
    "from sklearn.metrics import make_scorer, accuracy_score\n",
    "from sklearn.ensemble import RandomForestClassifier\n",
    "import matplotlib.pyplot as plt\n",
    "from sklearn.preprocessing import StandardScaler\n",
    "from sklearn.decomposition import PCA\n",
    "import statsmodels.api as sm\n",
    "from sklearn.pipeline import Pipeline\n",
    "from sklearn.model_selection import cross_val_score, StratifiedKFold\n",
    "from sklearn.ensemble import RandomForestClassifier\n",
    "from sklearn.linear_model import LogisticRegression\n",
    "from sklearn.svm import SVC\n",
    "from sklearn.tree import DecisionTreeClassifier\n",
    "from sklearn.ensemble import GradientBoostingClassifier\n",
    "from sklearn.naive_bayes import GaussianNB\n",
    "from sklearn.metrics import make_scorer, brier_score_loss, log_loss\n",
    "from sklearn.model_selection import KFold"
   ]
  },
  {
   "cell_type": "code",
   "execution_count": 3,
   "metadata": {},
   "outputs": [],
   "source": [
    "pd.set_option('display.max_columns', None)\n",
    "pd.set_option('display.max_rows', None)"
   ]
  },
  {
   "cell_type": "markdown",
   "metadata": {},
   "source": [
    "### TODO\n",
    "1. Format dataset to be compatible with ml\n",
    "    - devise strategy for renaming winner / loser columns \n",
    "    - remove 1500 & 350 rd for both team ratings\n",
    "    - look into and handle null or bad data processing\n",
    "2. EDA & Feature engineering\n",
    "    - Look at old valorant features\n",
    "    - GPT and brainstorm additional features\n",
    "    - Normal dist win prob, raw difference, % difference, etc?\n",
    "3. Feature importance analysis\n",
    "4. Cross validation\n",
    "    - Fit several models and get their cv metrics\n",
    "    - Scale data within folds if needed\n",
    "    - Determine best model\n",
    "5. Backtest on collected odds\n",
    "    - Remember to convert map odds to match odds (how do i do this?)\n",
    "    - Simulate odd compression after limit betting once\n",
    "    - Could use odds (t) to estimate this behaviour\n",
    "6. Create script using pinny api to get new lines / bet lines when they are priced good \n",
    "    - Think about all conditions that could happen\n",
    "        - What to do with new players / missing some players data (Fill with 'average' player?)\n",
    "    - Practical max bets based on function off length of odds (higher bet limits for short odds) (BE prob ie 1/odds multiplied by max bet for 1.01 odds)\n",
    "7. Create production interface/webapp on server\n",
    "    - Auto run data collection scripts periodically\n",
    "    - Constantly crawl pinny api for potential bets\n",
    "    - Store data about taken bets and line data (lines i got vs lines odds are at / closing at)\n"
   ]
  },
  {
   "cell_type": "code",
   "execution_count": null,
   "metadata": {},
   "outputs": [],
   "source": [
    "raw_game_data = pd.read_csv(\"../datasets/games_stats.csv\")"
   ]
  },
  {
   "cell_type": "code",
   "execution_count": 33,
   "metadata": {},
   "outputs": [],
   "source": [
    "def transform_dataframe(df):\n",
    "    # Split the DataFrame into two equal parts\n",
    "    df1 = df.copy()\n",
    "    df2 = df.copy()\n",
    "\n",
    "    # Rename 'winner' to 'home' and 'loser' to 'away' in the first half\n",
    "    df1.columns = [col.replace('winner_team_', 'A_').replace('loser_team_', 'B_').replace('winner_', 'A_').replace('loser_', 'B_') for col in df1.columns]\n",
    "\n",
    "    # Rename 'winner' to 'away' and 'loser' to 'home' in the second half\n",
    "    df2.columns = [col.replace('winner_team_', 'B_').replace('loser_team_', 'A_').replace('winner_', 'B_').replace('loser_', 'A_') for col in df2.columns]\n",
    "\n",
    "    df1['A_win'] = df1.apply(lambda x: 1 if x['A_score'] > x['B_score'] else 0, axis=1)\n",
    "    df2['A_win'] = df2.apply(lambda x: 1 if x['A_score'] > x['B_score'] else 0, axis=1)\n",
    "\n",
    "    # Concatenate the two DataFrames\n",
    "    transformed_df = pd.concat([df1, df2], ignore_index=True)\n",
    "\n",
    "    # Shuffle the DataFrame rows if you want to mix the home and away perspectives\n",
    "    transformed_df = transformed_df.sample(frac=1).reset_index(drop=True)\n",
    "\n",
    "    return transformed_df"
   ]
  },
  {
   "cell_type": "code",
   "execution_count": 34,
   "metadata": {},
   "outputs": [],
   "source": [
    "transformed_game_data = transform_dataframe(raw_game_data) #Make data able to be classified by ML"
   ]
  },
  {
   "cell_type": "code",
   "execution_count": 35,
   "metadata": {},
   "outputs": [],
   "source": [
    "transformed_game_data = transformed_game_data.dropna(subset=['A_score'])\n",
    "transformed_game_data = transformed_game_data.dropna(subset=['B_score'])\n",
    "transformed_game_data = transformed_game_data.dropna(subset=['status'])\n",
    "transformed_game_data = transformed_game_data.dropna(subset=['A_rating'])\n",
    "transformed_game_data = transformed_game_data.dropna(subset=['B_rating'])\n",
    "transformed_game_data = transformed_game_data.dropna(subset=['rounds_count'])\n",
    "transformed_game_data = transformed_game_data.dropna(subset=['A_5_kpr'])\n",
    "transformed_game_data = transformed_game_data.dropna(subset=['B_5_kpr'])\n",
    "if 'B_glicko_win_prob' in transformed_game_data.columns:\n",
    "    transformed_game_data.loc[transformed_game_data['A_glicko_win_prob'].isnull(), 'A_glicko_win_prob'] = 1 - transformed_game_data['B_glicko_win_prob']\n",
    "    transformed_game_data.drop('B_glicko_win_prob', axis=1, inplace=True)\n",
    "\n",
    "\n",
    "\n",
    "#transformed_game_data[transformed_game_data['rounds_count'].isnull()]"
   ]
  },
  {
   "cell_type": "code",
   "execution_count": 36,
   "metadata": {},
   "outputs": [],
   "source": [
    "A_columns = [col for col in transformed_game_data.columns if \"B_\" not in col and col not in ['id', 'match_id', 'begin_at', 'map_name', 'duration', 'A_score', 'B_score', 'status', 'number', 'rounds_count', 'A_id', 'B_id', 'A_rating', 'A_deviation', 'A_glicko_win_prob', 'A_win']]"
   ]
  },
  {
   "cell_type": "code",
   "execution_count": 37,
   "metadata": {},
   "outputs": [],
   "source": [
    "feature_df = transformed_game_data.copy()\n",
    "\n",
    "delta_columns = {}\n",
    "ratio_columns = {}\n",
    "percent_diff_columns = {}\n",
    "z_score_columns = {}\n",
    "win_prob_columns = {}\n",
    "OD_columns = {}\n",
    "DO_columns = {}\n",
    "\n",
    "for A_col in A_columns:\n",
    "    B_col = A_col.replace('A_', 'B_')\n",
    "    delta_col = A_col.replace('A_', 'delta_')\n",
    "    ratio_col = A_col.replace('A_', 'ratio_')\n",
    "    percent_diff_col = A_col.replace('A_', 'percent_diff_')\n",
    "    z_col = A_col.replace('A_', 'z_')\n",
    "    win_prob_col = A_col.replace('A_', 'win_prob_')\n",
    "    mean_name = \"_\".join(A_col.split('_')[2:]) + '_mean'\n",
    "    var_name = \"_\".join(A_col.split('_')[2:]) + '_var'\n",
    "\n",
    "    # Calculate delta \n",
    "    delta_columns[delta_col] = feature_df[A_col] - feature_df[B_col]\n",
    "\n",
    "    #ratio columns\n",
    "    ratio_columns[ratio_col] = feature_df[A_col] / feature_df[B_col] \n",
    "\n",
    "    #percent diff\n",
    "    percent_diff_columns[percent_diff_col] = (feature_df[A_col] - feature_df[B_col]) / ((feature_df[A_col] + feature_df[B_col]) / 2)\n",
    "\n",
    "    #z score\n",
    "    z_score_columns[z_col] = (feature_df[A_col] - feature_df[B_col]) / np.sqrt(getattr(feature_moments, var_name))\n",
    "\n",
    "    #Prob\n",
    "    win_prob_columns[win_prob_col] = norm.cdf((feature_df[A_col] - feature_df[B_col]) / np.sqrt(getattr(feature_moments, var_name)))\n",
    "\n",
    "    #OD\n",
    "    if \"_T\" in A_col:\n",
    "        B_col_t = A_col.replace(\"A_\", 'B_').replace(\"_T\", \"_CT\")\n",
    "        od_col = A_col.replace(\"A_\", \"OD_\").replace(\"_T\", \"\")\n",
    "        OD_columns[od_col] = feature_df[A_col] / feature_df[B_col_t]\n",
    "\n",
    "    #DO\n",
    "    if \"_CT\" in A_col:\n",
    "        B_col_ct = A_col.replace(\"A_\", 'B_').replace(\"_CT\", \"_T\")\n",
    "        do_col = A_col.replace(\"A_\", \"DO_\").replace(\"_CT\", \"\")\n",
    "        DO_columns[do_col] = feature_df[A_col] / feature_df[B_col_ct]\n",
    "\n",
    "for A_col in A_columns:\n",
    "    #Drop raw columns   \n",
    "    B_col = A_col.replace('A_', 'B_')\n",
    "    feature_df.drop([A_col, B_col], axis=1, inplace=True)\n",
    "    \n",
    "\n",
    "# Now concatenate all at once\n",
    "feature_df = pd.concat([feature_df, pd.DataFrame(delta_columns)], axis=1)\n",
    "feature_df = pd.concat([feature_df, pd.DataFrame(ratio_columns)], axis=1)\n",
    "feature_df = pd.concat([feature_df, pd.DataFrame(percent_diff_columns)], axis=1)\n",
    "feature_df = pd.concat([feature_df, pd.DataFrame(z_score_columns)], axis=1)\n",
    "feature_df = pd.concat([feature_df, pd.DataFrame(win_prob_columns)], axis=1)\n",
    "feature_df = pd.concat([feature_df, pd.DataFrame(OD_columns)], axis=1)\n",
    "feature_df = pd.concat([feature_df, pd.DataFrame(DO_columns)], axis=1)\n"
   ]
  },
  {
   "cell_type": "code",
   "execution_count": 38,
   "metadata": {},
   "outputs": [],
   "source": [
    "feature_df.to_csv(\"../datasets/games_clean_features.csv\")"
   ]
  },
  {
   "cell_type": "code",
   "execution_count": 3,
   "metadata": {},
   "outputs": [
    {
     "name": "stderr",
     "output_type": "stream",
     "text": [
      "C:\\Users\\Liam\\AppData\\Local\\Temp\\ipykernel_20916\\3752253186.py:1: DtypeWarning: Columns (3,4,8) have mixed types. Specify dtype option on import or set low_memory=False.\n",
      "  feature_df = pd.read_csv(\"../datasets/games_clean_features.csv\")\n"
     ]
    }
   ],
   "source": [
    "feature_df = pd.read_csv(\"../datasets/games_clean_features.csv\")\n",
    "feature_df = feature_df.drop(columns=['Unnamed: 0'])"
   ]
  },
  {
   "cell_type": "code",
   "execution_count": 4,
   "metadata": {},
   "outputs": [
    {
     "name": "stdout",
     "output_type": "stream",
     "text": [
      "83333\n",
      "79695\n"
     ]
    }
   ],
   "source": [
    "# Separate features and target variable\n",
    "feature_df = feature_df.drop(['id', 'match_id', 'begin_at', 'map_name', 'duration', 'A_score', 'B_score', 'status', 'number', 'rounds_count', 'A_id', 'B_id'], axis=1)\n",
    "print(len(feature_df.index))\n",
    "feature_df = feature_df.dropna()\n",
    "print(len(feature_df.index))"
   ]
  },
  {
   "cell_type": "code",
   "execution_count": 5,
   "metadata": {},
   "outputs": [],
   "source": [
    "# Separate the features and target variable\n",
    "X = feature_df.drop(columns=['A_win'])  # Features\n",
    "y = feature_df['A_win']  # Target variable"
   ]
  },
  {
   "cell_type": "code",
   "execution_count": null,
   "metadata": {},
   "outputs": [],
   "source": [
    "rf = RandomForestClassifier(n_estimators=100, random_state=42)\n",
    "\n",
    "rf.fit(X, y)\n",
    "\n",
    "feature_importances = rf.feature_importances_\n",
    "importances = pd.Series(feature_importances, index=X.columns)\n",
    "\n",
    "# Sort the feature importances in descending order\n",
    "sorted_importances = importances.sort_values(ascending=False)"
   ]
  },
  {
   "cell_type": "code",
   "execution_count": null,
   "metadata": {},
   "outputs": [],
   "source": [
    "print(sorted_importances.head(50))"
   ]
  },
  {
   "cell_type": "code",
   "execution_count": 12,
   "metadata": {},
   "outputs": [
    {
     "data": {
      "image/png": "[encoded data removed]",
      "text/plain": [
       "<Figure size 1200x800 with 1 Axes>"
      ]
     },
     "metadata": {},
     "output_type": "display_data"
    }
   ],
   "source": [
    "\n",
    "\n",
    "plt.figure(figsize=(12,8))\n",
    "\n",
    "sorted_importances.plot(kind='bar')\n",
    "\n",
    "plt.title('Top Feature Importances from Random Forest')\n",
    "\n",
    "plt.xlabel('Features')\n",
    "\n",
    "plt.ylabel('Importance')\n",
    "\n",
    "plt.xticks(rotation=90)\n",
    "\n",
    "plt.show()"
   ]
  },
  {
   "cell_type": "code",
   "execution_count": 15,
   "metadata": {},
   "outputs": [
    {
     "name": "stdout",
     "output_type": "stream",
     "text": [
      "4359\n",
      "1279\n"
     ]
    },
    {
     "data": {
      "text/plain": [
       "[('A_glicko_win_prob', 0.004709043452042811),\n",
       " ('percent_diff_inf_rwpr', 0.0025718348542362783),\n",
       " ('z_inf_kdr_CT', 0.0024198726006454947),\n",
       " ('z_inf_tdp', 0.002229666993072546),\n",
       " ('percent_diff_inf_mis_T', 0.0020741017637746677),\n",
       " ('delta_inf_kpr', 0.0019950345231333627),\n",
       " ('ratio_inf_rwpr_CT', 0.0018684708088521373),\n",
       " ('z_inf_mis', 0.0018290918636876294),\n",
       " ('ratio_inf_dpr', 0.0017752555954193578),\n",
       " ('z_inf_kdr', 0.0017749138618343178)]"
      ]
     },
     "execution_count": 15,
     "metadata": {},
     "output_type": "execute_result"
    }
   ],
   "source": [
    "# Since we want to filter out similar features, we will create a function that checks the prefixes of features\n",
    "# and only keeps the highest importance feature from each group.\n",
    "\n",
    "def filter_similar_features(importances):\n",
    "    # Dictionary to keep the highest importance feature of each group\n",
    "    filtered_importances = {}\n",
    "    \n",
    "    # Iterate over the importances\n",
    "    for feature, importance in importances.items():\n",
    "        # Check if the feature belongs to one of the groups with similar features\n",
    "        for prefix in ('percent_diff_', 'win_prob_', 'z_', 'ratio_', 'delta_'):\n",
    "            if feature.startswith(prefix):\n",
    "                # Extract the base feature name by removing the prefix\n",
    "                base_feature = feature[len(prefix):]\n",
    "                \n",
    "                # If this base feature is already in our filtered list, update only if the current feature is more important\n",
    "                if base_feature in filtered_importances:\n",
    "                    if importance > filtered_importances[base_feature][1]:\n",
    "                        filtered_importances[base_feature] = (feature, importance)\n",
    "                else:\n",
    "                    filtered_importances[base_feature] = (feature, importance)\n",
    "                break\n",
    "        else:\n",
    "            # If the feature does not start with one of the prefixes, add it to the list\n",
    "            filtered_importances[feature] = (feature, importance)\n",
    "    \n",
    "    # Sort the filtered features by importance\n",
    "    sorted_filtered_importances = sorted(filtered_importances.values(), key=lambda x: x[1], reverse=True)\n",
    "    \n",
    "    return sorted_filtered_importances\n",
    "\n",
    "# Apply the filter function to the importances\n",
    "unique_importances = filter_similar_features(importances)\n",
    "\n",
    "# Display the filtered unique features\n",
    "print(len(importances))\n",
    "print(len(unique_importances))\n",
    "unique_importances[:10]\n"
   ]
  },
  {
   "cell_type": "code",
   "execution_count": 71,
   "metadata": {},
   "outputs": [
    {
     "ename": "NameError",
     "evalue": "name 'unique_importances' is not defined",
     "output_type": "error",
     "traceback": [
      "\u001b[1;31m---------------------------------------------------------------------------\u001b[0m",
      "\u001b[1;31mNameError\u001b[0m                                 Traceback (most recent call last)",
      "Cell \u001b[1;32mIn[71], line 3\u001b[0m\n\u001b[0;32m      1\u001b[0m plt\u001b[38;5;241m.\u001b[39mfigure(figsize\u001b[38;5;241m=\u001b[39m(\u001b[38;5;241m12\u001b[39m,\u001b[38;5;241m8\u001b[39m))\n\u001b[1;32m----> 3\u001b[0m pd\u001b[38;5;241m.\u001b[39mSeries({k: v \u001b[38;5;28;01mfor\u001b[39;00m k, v \u001b[38;5;129;01min\u001b[39;00m \u001b[43munique_importances\u001b[49m})\u001b[38;5;241m.\u001b[39mhead(\u001b[38;5;241m50\u001b[39m)\u001b[38;5;241m.\u001b[39mplot(kind\u001b[38;5;241m=\u001b[39m\u001b[38;5;124m'\u001b[39m\u001b[38;5;124mbar\u001b[39m\u001b[38;5;124m'\u001b[39m)\n\u001b[0;32m      5\u001b[0m plt\u001b[38;5;241m.\u001b[39mtitle(\u001b[38;5;124m'\u001b[39m\u001b[38;5;124mTop Feature Importances from Random Forest\u001b[39m\u001b[38;5;124m'\u001b[39m)\n\u001b[0;32m      7\u001b[0m plt\u001b[38;5;241m.\u001b[39mxlabel(\u001b[38;5;124m'\u001b[39m\u001b[38;5;124mFeatures\u001b[39m\u001b[38;5;124m'\u001b[39m)\n",
      "\u001b[1;31mNameError\u001b[0m: name 'unique_importances' is not defined"
     ]
    },
    {
     "data": {
      "text/plain": [
       "<Figure size 1200x800 with 0 Axes>"
      ]
     },
     "metadata": {},
     "output_type": "display_data"
    }
   ],
   "source": [
    "plt.figure(figsize=(12,8))\n",
    "\n",
    "pd.Series({k: v for k, v in unique_importances}).head(50).plot(kind='bar')\n",
    "\n",
    "plt.title('Top Feature Importances from Random Forest')\n",
    "\n",
    "plt.xlabel('Features')\n",
    "\n",
    "plt.ylabel('Importance')\n",
    "\n",
    "plt.xticks(rotation=90)\n",
    "\n",
    "plt.show()"
   ]
  },
  {
   "cell_type": "code",
   "execution_count": 28,
   "metadata": {},
   "outputs": [],
   "source": [
    "top_50_features = pd.Series({k: v for k, v in unique_importances}).head(50).keys().tolist()\n",
    "\n",
    "top_50_df = feature_df[top_50_features + ['A_win']]\n",
    "\n",
    "top_50_df.to_csv(\"../datasets/games_top_50.csv\")"
   ]
  },
  {
   "cell_type": "code",
   "execution_count": 32,
   "metadata": {},
   "outputs": [],
   "source": [
    "top_50_df = pd.read_csv(\"../datasets/games_top_50.csv\")"
   ]
  },
  {
   "cell_type": "code",
   "execution_count": 9,
   "metadata": {},
   "outputs": [
    {
     "name": "stdout",
     "output_type": "stream",
     "text": [
      "Processing model Logistic Regression\n"
     ]
    }
   ],
   "source": [
    "\n",
    "\n",
    "# Define the feature set and the target variable\n",
    "#X = feature_df.drop('A_win', axis=1)\n",
    "#y = feature_df['A_win']\n",
    "\n",
    "#X = top_50_df.drop('A_win', axis=1)\n",
    "#y = top_50_df['A_win']\n",
    "\n",
    "# Initialize Stratified K-Fold for cross-validation\n",
    "skf = StratifiedKFold(n_splits=5, shuffle=True, random_state=42)\n",
    "\n",
    "# Define custom scorer for Brier score since lower is better\n",
    "brier_scorer = make_scorer(brier_score_loss, needs_proba=True)\n",
    "\n",
    "# Dictionary to store the mean cross-validation Brier scores and Log Loss for each model\n",
    "cv_scores_brier = {}\n",
    "cv_scores_log_loss = {}\n",
    "\n",
    "# List of models to evaluate, excluding Random Forest\n",
    "models = {\n",
    "    'Logistic Regression': LogisticRegression(max_iter=1000, random_state=42),\n",
    "    #'Gradient Boosting': GradientBoostingClassifier(random_state=42),\n",
    "    #'SVM (with Platt Scaling)': SVC(probability=True, random_state=42),  # Platt Scaling enabled by probability=True\n",
    "    #'Naive Bayes': GaussianNB()\n",
    "}\n",
    "\n",
    "# Perform cross-validation and store the scores\n",
    "for model_name, model in models.items():\n",
    "    print(f\"Processing model {model_name}\")\n",
    "    # Create a pipeline with standard scaling, PCA, and the classifier\n",
    "    pipeline = Pipeline([\n",
    "        ('scaler', StandardScaler()),\n",
    "        ('pca', PCA(n_components=0.95)),\n",
    "        ('classifier', model)\n",
    "    ])\n",
    "    \n",
    "    # Compute the cross-validation scores for Brier loss\n",
    "    brier_scores = cross_val_score(pipeline, X, y, cv=skf, scoring=brier_scorer)\n",
    "    cv_scores_brier[model_name] = {}\n",
    "    cv_scores_brier[model_name]['mean'] = brier_scores.mean()\n",
    "    cv_scores_brier[model_name]['std'] = brier_scores.std()\n",
    "    \n",
    "    # Compute the cross-validation scores for Log Loss\n",
    "    log_loss_scores = cross_val_score(pipeline, X, y, cv=skf, scoring='neg_log_loss')\n",
    "    cv_scores_log_loss[model_name] = {}\n",
    "    cv_scores_log_loss[model_name]['mean'] = -log_loss_scores.mean()  # Negate to make log loss positive\n",
    "    cv_scores_log_loss[model_name]['std'] = -log_loss_scores.std()  # Negate to make log loss positive\n",
    "\n",
    "(cv_scores_brier, cv_scores_log_loss)"
   ]
  },
  {
   "cell_type": "markdown",
   "metadata": {},
   "source": [
    "Processing model Logistic Regression\n",
    "Processing model Gradient Boosting\n",
    "Processing model Naive Bayes\n",
    "({'Logistic Regression': {'mean': 0.22340836414523685,\n",
    "   'std': 0.00046204482282354915},\n",
    "  'Gradient Boosting': {'mean': 0.22366601082025603,\n",
    "   'std': 0.0006703708744504507},\n",
    "  'Naive Bayes': {'mean': 0.23114344415292504, 'std': 0.0009514006892995579}},\n",
    " {'Logistic Regression': {'mean': 0.6367208388499452,\n",
    "   'std': -0.0010448610270095784},\n",
    "  'Gradient Boosting': {'mean': 0.6372920411296173,\n",
    "   'std': -0.001498834907481534},\n",
    "  'Naive Bayes': {'mean': 0.6705002886329596, 'std': -0.005142883336430973}})"
   ]
  },
  {
   "cell_type": "code",
   "execution_count": 24,
   "metadata": {},
   "outputs": [
    {
     "data": {
      "text/plain": [
       "(       A_glicko_win_prob  percent_diff_inf_rwpr  z_inf_kdr_CT     z_inf_tdp  \\\n",
       " count       7.970100e+04           79701.000000  79701.000000  79701.000000   \n",
       " mean        5.000448e-01              -0.000008     -0.000006      0.000013   \n",
       " std         2.651055e-01               0.080790      0.355509      0.210514   \n",
       " min         1.579881e-11              -0.592530     -1.873987     -9.781487   \n",
       " 25%         2.811149e-01              -0.043292     -0.218168     -0.108258   \n",
       " 50%         4.999996e-01              -0.000012      0.000065     -0.000049   \n",
       " 75%         7.188909e-01               0.043303      0.218231      0.108385   \n",
       " max         1.000000e+00               0.592530      1.873987      9.781487   \n",
       " \n",
       "        percent_diff_inf_mis_T  delta_inf_kpr  ratio_inf_rwpr_CT     z_inf_mis  \\\n",
       " count            7.970100e+04   79701.000000       79701.000000  7.970100e+04   \n",
       " mean            -3.070540e-05       0.000004           1.004187  8.710872e-08   \n",
       " std              7.108715e-01       0.031969           0.092344  3.562879e-03   \n",
       " min             -1.902878e+00      -0.178815           0.526905 -1.953924e-02   \n",
       " 25%             -4.435095e-01      -0.019070           0.952967 -9.044496e-04   \n",
       " 50%              3.247231e-10       0.000003           0.999990  1.518272e-11   \n",
       " 75%              4.429436e-01       0.019069           1.049355  9.037529e-04   \n",
       " max              1.902878e+00       0.178815           1.897874  1.953924e-02   \n",
       " \n",
       "        ratio_inf_dpr     z_inf_kdr  ratio_inf_mis_CT  delta_30_dpr  \\\n",
       " count   79701.000000  79701.000000      79701.000000  79701.000000   \n",
       " mean        1.001043     -0.000004          1.467969     -0.000008   \n",
       " std         0.045679      0.371753          1.832441      0.031217   \n",
       " min         0.780573     -2.112034          0.024901     -0.178320   \n",
       " 25%         0.972667     -0.224293          0.636963     -0.019743   \n",
       " 50%         0.999976      0.000159          1.000000     -0.000009   \n",
       " 75%         1.028110      0.224412          1.569332      0.019727   \n",
       " max         1.281110      2.112034         40.158745      0.178320   \n",
       " \n",
       "        ratio_inf_spr    OD_inf_mis    DO_inf_mis  ratio_30_spr  z_inf_kast_CT  \\\n",
       " count   79701.000000  79701.000000  79701.000000  79701.000000   79701.000000   \n",
       " mean        1.004914      2.413983      0.892671      1.005092      -0.000065   \n",
       " std         0.100171      3.013616      1.114273      0.101585       0.311206   \n",
       " min         0.528554      0.040925      0.015141      0.525437      -1.916562   \n",
       " 25%         0.943443      1.047463      0.387373      0.939375      -0.131284   \n",
       " 50%         1.000047      1.644604      0.608049      1.000031       0.000000   \n",
       " 75%         1.059962      2.580272      0.954198      1.064580       0.131174   \n",
       " max         1.891953     66.045248     24.434670      1.903176       1.916562   \n",
       " \n",
       "        ratio_inf_adr_CT     z_inf_adr  percent_diff_inf_tdp_CT  \\\n",
       " count      79701.000000  79701.000000             79701.000000   \n",
       " mean           1.000892      0.000044                 0.000016   \n",
       " std            0.041836      0.223031                 0.047840   \n",
       " min            0.758810     -1.216419                -0.603211   \n",
       " 25%            0.974515     -0.136062                -0.027807   \n",
       " 50%            1.000003     -0.000088                 0.000002   \n",
       " 75%            1.026156      0.136335                 0.027854   \n",
       " max            1.317853      1.216419                 0.603211   \n",
       " \n",
       "        delta_inf_kast  z_inf_dpr_CT  delta_inf_evspr  z_inf_spr_CT  \\\n",
       " count    79701.000000  79701.000000     79701.000000  79701.000000   \n",
       " mean        -0.000016      0.000002        -0.021572     -0.000002   \n",
       " std          0.074579      0.288083       221.795864      0.288083   \n",
       " min         -0.463104     -1.507634     -1143.478709     -1.507634   \n",
       " 25%         -0.030842     -0.174879      -126.914826     -0.174833   \n",
       " 50%         -0.000004     -0.000243         0.000000      0.000243   \n",
       " 75%          0.030871      0.174833       127.060824      0.174879   \n",
       " max          0.463104      1.507634      1143.478709      1.507634   \n",
       " \n",
       "        delta_inf_kpr_CT  percent_diff_inf_evspr_CT  delta_inf_rwpr_T  \\\n",
       " count      79701.000000               79701.000000      79701.000000   \n",
       " mean           0.000013                  -0.000033         -0.000011   \n",
       " std            0.037049                   0.180518          0.040511   \n",
       " min           -0.222825                  -1.108455         -0.238699   \n",
       " 25%           -0.022198                  -0.089503         -0.022694   \n",
       " 50%            0.000012                   0.000000          0.000004   \n",
       " 75%            0.022215                   0.089501          0.022699   \n",
       " max            0.222825                   1.108455          0.238699   \n",
       " \n",
       "        percent_diff_30_tdp  delta_inf_evsos  percent_diff_inf_spr_T  \\\n",
       " count         79701.000000     7.970100e+04            79701.000000   \n",
       " mean              0.000034     9.597107e-07               -0.000006   \n",
       " std               0.045462     6.122346e-02                0.114561   \n",
       " min              -1.060880    -4.596360e-01               -0.656537   \n",
       " 25%              -0.023999    -3.767040e-02               -0.068083   \n",
       " 50%               0.000058     0.000000e+00                0.000056   \n",
       " 75%               0.024082     3.772452e-02                0.068139   \n",
       " max               1.060880     4.596360e-01                0.656537   \n",
       " \n",
       "            z_25_tdp      z_25_spr  delta_30_rwpr   OD_inf_rwpr  \\\n",
       " count  79701.000000  79701.000000   79701.000000  79701.000000   \n",
       " mean       0.000126      0.000123       0.000010      0.924122   \n",
       " std        0.247987      0.292957       0.042102      0.090194   \n",
       " min       -9.875433     -1.647248      -0.242691      0.490216   \n",
       " 25%       -0.102678     -0.186268      -0.026452      0.869815   \n",
       " 50%        0.000109      0.000315       0.000000      0.914351   \n",
       " 75%        0.102917      0.186103       0.026498      0.967457   \n",
       " max        9.875433      1.647248       0.242691      1.700213   \n",
       " \n",
       "        percent_diff_20_spr    z_inf_odwr  delta_30_kdr  percent_diff_25_dpr  \\\n",
       " count         79701.000000  79701.000000  79701.000000         79701.000000   \n",
       " mean              0.000056     -0.000050      0.000045            -0.000019   \n",
       " std               0.099413      0.211229      0.101853             0.045240   \n",
       " min              -0.601384     -1.332518     -0.623837            -0.244050   \n",
       " 25%              -0.062368     -0.130802     -0.063365            -0.028752   \n",
       " 50%               0.000071      0.000085      0.000114            -0.000049   \n",
       " 75%               0.062451      0.130827      0.063515             0.028783   \n",
       " max               0.601384      1.332518      0.623837             0.244050   \n",
       " \n",
       "        percent_diff_15_dpr  percent_diff_20_dpr  delta_inf_evsos_CT  \\\n",
       " count         79701.000000         79701.000000        79701.000000   \n",
       " mean             -0.000035            -0.000027           -0.000021   \n",
       " std               0.043279             0.044569            0.074354   \n",
       " min              -0.240587            -0.236585           -0.526048   \n",
       " 25%              -0.027543            -0.028342           -0.046220   \n",
       " 50%              -0.000017            -0.000030            0.000000   \n",
       " 75%               0.027469             0.028295            0.046220   \n",
       " max               0.240587             0.236585            0.526048   \n",
       " \n",
       "        ratio_25_evspr     z_25_rwpr      B_rating    DO_inf_spr      A_rating  \\\n",
       " count    79701.000000  79701.000000  79701.000000  79701.000000  79701.000000   \n",
       " mean         1.017352      0.000080   1511.874960      1.332247   1511.890544   \n",
       " std          0.199956      0.386341     59.714641      0.151552     59.697473   \n",
       " min          0.226824     -2.274881   1011.822168      0.672694   1011.822168   \n",
       " 25%          0.916062     -0.243629   1477.315421      1.238311   1477.356762   \n",
       " 50%          1.000000      0.000019   1515.647033      1.328791   1515.647486   \n",
       " 75%          1.091820      0.243570   1550.157875      1.420109   1550.163946   \n",
       " max          4.408703      2.274881   1818.218182      2.552849   1818.218182   \n",
       " \n",
       "          OD_inf_tdp   OD_inf_kast  delta_inf_tdp_T  win_prob_20_bdpa  \\\n",
       " count  79701.000000  79701.000000     79701.000000      79701.000000   \n",
       " mean       0.885706      0.929721        -0.000007          0.500013   \n",
       " std        0.047500      0.141608         0.010812          0.069229   \n",
       " min        0.558397      0.273728        -0.448292          0.206917   \n",
       " 25%        0.857462      0.875371        -0.005678          0.453482   \n",
       " 50%        0.883195      0.917960        -0.000001          0.500000   \n",
       " 75%        0.910632      0.968376         0.005676          0.546548   \n",
       " max        2.950082      3.154343         0.448292          0.793083   \n",
       " \n",
       "               A_win  \n",
       " count  79701.000000  \n",
       " mean       0.500082  \n",
       " std        0.500003  \n",
       " min        0.000000  \n",
       " 25%        0.000000  \n",
       " 50%        1.000000  \n",
       " 75%        1.000000  \n",
       " max        1.000000  ,\n",
       " ratio_inf_dpr               -0.269620\n",
       " z_inf_dpr_CT                -0.263666\n",
       " percent_diff_inf_mis_T      -0.253589\n",
       " delta_30_dpr                -0.251212\n",
       " percent_diff_25_dpr         -0.245020\n",
       " percent_diff_20_dpr         -0.236879\n",
       " z_inf_mis                   -0.230921\n",
       " percent_diff_15_dpr         -0.230456\n",
       " DO_inf_mis                  -0.186836\n",
       " ratio_inf_mis_CT            -0.186829\n",
       " OD_inf_mis                  -0.186828\n",
       " B_rating                    -0.140772\n",
       " win_prob_20_bdpa            -0.004466\n",
       " A_rating                     0.141832\n",
       " z_25_tdp                     0.158485\n",
       " OD_inf_kast                  0.178398\n",
       " ratio_25_evspr               0.179455\n",
       " delta_inf_tdp_T              0.185881\n",
       " OD_inf_tdp                   0.205840\n",
       " delta_inf_kast               0.209836\n",
       " percent_diff_30_tdp          0.211029\n",
       " z_inf_kast_CT                0.211976\n",
       " z_inf_tdp                    0.224720\n",
       " z_25_rwpr                    0.228922\n",
       " percent_diff_inf_evspr_CT    0.231787\n",
       " OD_inf_rwpr                  0.233142\n",
       " z_inf_odwr                   0.235547\n",
       " delta_30_rwpr                0.235603\n",
       " percent_diff_inf_tdp_CT      0.236621\n",
       " delta_30_kdr                 0.238624\n",
       " delta_inf_rwpr_T             0.239623\n",
       " percent_diff_20_spr          0.240504\n",
       " ratio_inf_adr_CT             0.241697\n",
       " DO_inf_spr                   0.241924\n",
       " percent_diff_inf_spr_T       0.242930\n",
       " z_inf_adr                    0.245809\n",
       " z_25_spr                     0.246471\n",
       " delta_inf_evsos_CT           0.247581\n",
       " delta_inf_evspr              0.248121\n",
       " delta_inf_kpr_CT             0.248336\n",
       " ratio_30_spr                 0.252526\n",
       " delta_inf_kpr                0.252937\n",
       " delta_inf_evsos              0.253902\n",
       " ratio_inf_rwpr_CT            0.259444\n",
       " z_inf_spr_CT                 0.263666\n",
       " z_inf_kdr_CT                 0.265979\n",
       " ratio_inf_spr                0.271206\n",
       " percent_diff_inf_rwpr        0.271904\n",
       " z_inf_kdr                    0.274101\n",
       " A_glicko_win_prob            0.295043\n",
       " A_win                        1.000000\n",
       " Name: A_win, dtype: float64)"
      ]
     },
     "execution_count": 24,
     "metadata": {},
     "output_type": "execute_result"
    }
   ],
   "source": [
    "if \"Unnamed: 0\" in top_50_df.columns:\n",
    "    top_50_df.drop(columns=['Unnamed: 0'], inplace=True)\n",
    "correlations = top_50_df.corr()['A_win'].sort_values()\n",
    "descriptive_stats = top_50_df.describe()\n",
    "\n",
    "descriptive_stats, correlations"
   ]
  },
  {
   "cell_type": "code",
   "execution_count": 25,
   "metadata": {},
   "outputs": [
    {
     "name": "stderr",
     "output_type": "stream",
     "text": [
      "c:\\Users\\Liam\\.pyenv\\pyenv-win\\versions\\3.10.11\\lib\\site-packages\\sklearn\\linear_model\\_coordinate_descent.py:628: ConvergenceWarning: Objective did not converge. You might want to increase the number of iterations, check the scale of the features or consider increasing regularisation. Duality gap: 2.543e+01, tolerance: 1.594e+00\n",
      "  model = cd_fast.enet_coordinate_descent(\n"
     ]
    },
    {
     "data": {
      "text/plain": [
       "(Index(['A_glicko_win_prob', 'percent_diff_inf_rwpr', 'z_inf_kdr_CT',\n",
       "        'percent_diff_inf_mis_T', 'delta_inf_kpr', 'ratio_inf_rwpr_CT',\n",
       "        'z_inf_mis', 'ratio_inf_dpr', 'z_inf_kdr', 'ratio_inf_mis_CT',\n",
       "        'ratio_inf_spr', 'DO_inf_mis', 'ratio_30_spr', 'ratio_inf_adr_CT',\n",
       "        'z_inf_adr', 'z_inf_dpr_CT', 'z_inf_spr_CT', 'delta_inf_kpr_CT',\n",
       "        'delta_inf_rwpr_T', 'percent_diff_30_tdp', 'delta_inf_evsos',\n",
       "        'percent_diff_inf_spr_T', 'z_25_tdp', 'z_25_spr', 'delta_30_rwpr',\n",
       "        'z_inf_odwr', 'delta_30_kdr', 'percent_diff_25_dpr',\n",
       "        'percent_diff_15_dpr', 'percent_diff_20_dpr', 'delta_inf_evsos_CT',\n",
       "        'ratio_25_evspr', 'z_25_rwpr', 'B_rating', 'A_rating', 'OD_inf_tdp',\n",
       "        'OD_inf_kast', 'delta_inf_tdp_T', 'win_prob_20_bdpa'],\n",
       "       dtype='object'),\n",
       " 0.00014739282487517914)"
      ]
     },
     "execution_count": 25,
     "metadata": {},
     "output_type": "execute_result"
    }
   ],
   "source": [
    "from sklearn.linear_model import LassoCV\n",
    "from sklearn.preprocessing import StandardScaler\n",
    "from sklearn.model_selection import train_test_split\n",
    "\n",
    "# Separate the features and the target variable\n",
    "X = top_50_df.drop('A_win', axis=1)\n",
    "y = top_50_df['A_win']\n",
    "\n",
    "# Standardizing the features\n",
    "scaler = StandardScaler()\n",
    "X_scaled = scaler.fit_transform(X)\n",
    "\n",
    "# Split the data into training and testing sets for cross-validation\n",
    "X_train, X_test, y_train, y_test = train_test_split(X_scaled, y, test_size=0.2, random_state=42)\n",
    "\n",
    "# Apply LassoCV to perform feature selection with cross-validation\n",
    "lasso_cv = LassoCV(cv=5, random_state=42).fit(X_train, y_train)\n",
    "\n",
    "# Get the features selected by Lasso (non-zero coefficients)\n",
    "lasso_coef = lasso_cv.coef_ != 0\n",
    "selected_features = X.columns[lasso_coef]\n",
    "\n",
    "selected_features, lasso_cv.alpha_\n"
   ]
  },
  {
   "cell_type": "code",
   "execution_count": 107,
   "metadata": {},
   "outputs": [
    {
     "data": {
      "text/plain": [
       "0.3593813663804626"
      ]
     },
     "execution_count": 107,
     "metadata": {},
     "output_type": "execute_result"
    }
   ],
   "source": [
    "from sklearn.linear_model import LogisticRegressionCV\n",
    "\n",
    "# Reducing the dataset to the selected features from Lasso\n",
    "X_selected = top_50_df[selected_features]\n",
    "top_n_features = [\n",
    "    \"A_glicko_win_prob\",\n",
    "    \"percent_diff_inf_rwpr\",\n",
    "    \"z_inf_kdr_CT\",\n",
    "    \"z_inf_tdp\",\n",
    "    \"percent_diff_inf_mis_T\",\n",
    "    \"delta_inf_kpr\",\n",
    "    \"ratio_inf_rwpr_CT\",\n",
    "    \"z_inf_mis\",\n",
    "    \"ratio_inf_dpr\",\n",
    "    \"z_inf_kdr\",\n",
    "    \"ratio_inf_mis_CT\",\n",
    "    \"delta_30_dpr\",\n",
    "    \"ratio_inf_spr\",\n",
    "    \"OD_inf_mis\",\n",
    "    \"DO_inf_mis\",\n",
    "    \"ratio_30_spr\",\n",
    "    \"z_inf_kast_CT\",\n",
    "    \"ratio_inf_adr_CT\",\n",
    "    \"z_inf_adr\",\n",
    "    \"percent_diff_inf_tdp_CT\",\n",
    "    \"delta_inf_kast\",\n",
    "    \"z_inf_dpr_CT\",\n",
    "    \"delta_inf_evspr\",\n",
    "    \"z_inf_spr_CT\",\n",
    "    \"delta_inf_kpr_CT\",\n",
    "    \"percent_diff_inf_evspr_CT\",\n",
    "    \"delta_inf_rwpr_T\",\n",
    "    \"percent_diff_30_tdp\",\n",
    "    \"delta_inf_evsos\",\n",
    "    \"percent_diff_inf_spr_T\",\n",
    "    \"z_25_tdp\",\n",
    "    \"z_25_spr\",\n",
    "    \"delta_30_rwpr\",\n",
    "    \"OD_inf_rwpr\",\n",
    "    \"percent_diff_20_spr\",\n",
    "    \"z_inf_odwr\",\n",
    "    \"delta_30_kdr\",\n",
    "]\n",
    "\n",
    "X_selected_manual = top_50_df[top_n_features]\n",
    "\n",
    "# Separate the features and the target variable\n",
    "X = top_50_df.drop('A_win', axis=1)\n",
    "y = top_50_df['A_win']\n",
    "\n",
    "X_train, X_test, y_train, y_test = train_test_split(X_selected_manual, y, test_size=0.2, random_state=425325)\n",
    "\n",
    "# Train the logistic regression model using LogisticRegressionCV which includes built-in cross-validation\n",
    "# to find the best C parameter (inverse of regularization strength, similar to alpha but in reverse)\n",
    "logistic_cv = LogisticRegressionCV(cv=5, random_state=55, max_iter=1000).fit(X_train, y_train)\n",
    "\n",
    "# Getting the best C parameter found\n",
    "best_C = logistic_cv.C_[0]\n",
    "\n",
    "best_C\n"
   ]
  },
  {
   "cell_type": "code",
   "execution_count": null,
   "metadata": {},
   "outputs": [],
   "source": []
  },
  {
   "cell_type": "code",
   "execution_count": 108,
   "metadata": {},
   "outputs": [
    {
     "name": "stdout",
     "output_type": "stream",
     "text": [
      "GLICKO\n",
      "LL     = 0.6985109980495549\n",
      "AUC    = 0.6691530311164592\n",
      "RAW%   = 0.6206195656265292\n",
      "\n",
      "TRAIN SET\n",
      "LL     = 0.6362134040105173\n",
      "AUC    = 0.6862080510942151\n",
      "RAW%   = 0.6307089084065245\n",
      "\n",
      "TEST SET\n",
      "LL     = 0.6363421570595583\n",
      "AUC    = 0.6871353753823191\n",
      "RAW%   = 0.6321435292641616\n",
      "\n",
      "Whole dataset\n",
      "LL     = 0.6363184845628934\n",
      "AUC    = 0.6862642608604751\n",
      "RAW%   = 0.6315228165267688\n",
      "\n"
     ]
    }
   ],
   "source": [
    "from sklearn.metrics import accuracy_score, roc_auc_score\n",
    "\n",
    "# Assuming A_glicko_win_prob is a column in the top_50_df DataFrame\n",
    "top_50_df['glicko_win_class'] = 0\n",
    "top_50_df['glicko_win_class'] = (top_50_df['A_glicko_win_prob'] > 0.5).astype(int)\n",
    "\n",
    "print(\"GLICKO\")\n",
    "print(f\"LL     = {log_loss(top_50_df['A_win'], top_50_df['A_glicko_win_prob'])}\")\n",
    "print(f\"AUC    = {roc_auc_score(top_50_df['A_win'], top_50_df['A_glicko_win_prob'])}\")\n",
    "print(f\"RAW%   = {accuracy_score(top_50_df['A_win'], top_50_df['glicko_win_class'])}\")\n",
    "print()\n",
    "\n",
    "\n",
    "# Initialize the Logistic Regression model with the consistent C value found earlier\n",
    "logreg = LogisticRegression(max_iter=1000)\n",
    "logreg.fit(X_train, y_train)\n",
    "\n",
    "y_pred_probs = logreg.predict_proba(X_train)[:, 1]\n",
    "y_pred = logreg.predict(X_train)\n",
    "\n",
    "\n",
    "print(\"TRAIN SET\")\n",
    "print(f\"LL     = {log_loss(y_train, y_pred_probs)}\")\n",
    "print(f\"AUC    = {roc_auc_score(y_train, y_pred_probs)}\")\n",
    "print(f\"RAW%   = {accuracy_score(y_train, y_pred)}\")\n",
    "print()\n",
    "\n",
    "\n",
    "# TEST SET\n",
    "y_pred_probs = logreg.predict_proba(X_test)[:, 1]\n",
    "y_pred = logreg.predict(X_test)\n",
    "\n",
    "print(\"TEST SET\")\n",
    "print(f\"LL     = {log_loss(y_test, y_pred_probs)}\")\n",
    "print(f\"AUC    = {roc_auc_score(y_test, y_pred_probs)}\")\n",
    "print(f\"RAW%   = {accuracy_score(y_test, y_pred)}\")\n",
    "print()\n",
    "\n",
    "\n",
    "#RETRAIN WHOLE SET\n",
    "logreg = LogisticRegression(max_iter=1000)\n",
    "logreg.fit(X_selected_manual, y)\n",
    "\n",
    "y_pred_probs = logreg.predict_proba(X_selected_manual)[:, 1]\n",
    "y_pred = logreg.predict(X_selected_manual)\n",
    "\n",
    "\n",
    "print(\"Whole dataset\")\n",
    "print(f\"LL     = {log_loss(y, y_pred_probs)}\")\n",
    "print(f\"AUC    = {roc_auc_score(y, y_pred_probs)}\")\n",
    "print(f\"RAW%   = {accuracy_score(y, y_pred)}\")\n",
    "print()"
   ]
  },
  {
   "cell_type": "code",
   "execution_count": 153,
   "metadata": {},
   "outputs": [
    {
     "name": "stdout",
     "output_type": "stream",
     "text": [
      "0.7583360000000001\n"
     ]
    }
   ],
   "source": [
    "from math import comb\n",
    "\n",
    "from scipy.stats import binom\n",
    "\n",
    "def probability_A_wins_series(p, n):\n",
    "    games_to_win = (n // 2) + 1\n",
    "\n",
    "    probability = sum(binom.pmf(k, n, p) for k in range(games_to_win, n+1))\n",
    "\n",
    "    return probability\n",
    "\n",
    "print(probability_A_wins_series(0.68, 3))\n"
   ]
  },
  {
   "cell_type": "code",
   "execution_count": 155,
   "metadata": {},
   "outputs": [
    {
     "name": "stdout",
     "output_type": "stream",
     "text": [
      "0.24166399999999993\n"
     ]
    }
   ],
   "source": [
    "def probability_specific_score(p, wins_required, total_games):\n",
    "    # The number of ways to achieve the score given the order of wins and losses matters\n",
    "    # For example, for a score of 2-1, there are 3 ways: W-W-L, W-L-W, L-W-W\n",
    "    # Since wins are independent events, the probability of each sequence is p^wins * (1-p)^(total_games - wins)\n",
    "    # The total probability is then this value multiplied by the number of sequences\n",
    "\n",
    "    # The number of sequences can be determined by the binomial coefficient \"comb\"\n",
    "    # which is the number of ways to choose 'wins_required' wins out of 'total_games' games\n",
    "    number_of_sequences = comb(total_games - 1, wins_required - 1)\n",
    "\n",
    "    # Calculate the probability of the specific score\n",
    "    probability = number_of_sequences * (p ** wins_required) * ((1 - p) ** (total_games - wins_required))\n",
    "    return probability\n",
    "\n",
    "# Example usage for a best of 3 series (2-1 score):\n",
    "# probability_specific_score(0.6, 2, 3)\n",
    "# This calculates the probability of player A winning with a score of 2-1 given that\n",
    "# player A has a 60% chance of winning any single game.\n",
    "# The specific values of p, wins_required, and total_games would be provided to get the result.\n",
    "\n",
    "\n",
    "print(probability_specific_score(1-0.68, 2, 2) + probability_specific_score(1-0.68, 2, 3))"
   ]
  },
  {
   "cell_type": "code",
   "execution_count": 45,
   "metadata": {},
   "outputs": [
    {
     "name": "stdout",
     "output_type": "stream",
     "text": [
      "171\n"
     ]
    }
   ],
   "source": [
    "odds_df = pd.read_csv(\"../datasets/odds.csv\")\n",
    "odds_df = odds_df.dropna()\n",
    "print(len(odds_df.index))\n",
    "odds_df['match_id'] = None\n",
    "odds_df.to_csv(\"../datasets/odds.csv\", index=False)"
   ]
  }
 ],
 "metadata": {
  "kernelspec": {
   "display_name": "Python 3.10.11 64-bit ('3.10.11')",
   "language": "python",
   "name": "python3"
  },
  "language_info": {
   "codemirror_mode": {
    "name": "ipython",
    "version": 3
   },
   "file_extension": ".py",
   "mimetype": "text/x-python",
   "name": "python",
   "nbconvert_exporter": "python",
   "pygments_lexer": "ipython3",
   "version": "3.10.11"
  },
  "orig_nbformat": 4,
  "vscode": {
   "interpreter": {
    "hash": "e2048f4179d5dfa4f467dcf24ed4347c666cb146ce13545cc2c969ee8ff75458"
   }
  }
 },
 "nbformat": 4,
 "nbformat_minor": 2
}
